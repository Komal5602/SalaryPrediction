{
  "nbformat": 4,
  "nbformat_minor": 0,
  "metadata": {
    "colab": {
      "provenance": []
    },
    "kernelspec": {
      "name": "python3",
      "display_name": "Python 3"
    },
    "language_info": {
      "name": "python"
    }
  },
  "cells": [
    {
      "cell_type": "code",
      "execution_count": 61,
      "metadata": {
        "id": "azrz7oZexSGB"
      },
      "outputs": [],
      "source": [
        "import pandas as pd\n",
        "import numpy as np\n",
        "import matplotlib.pyplot as plt\n",
        "from sklearn.model_selection import train_test_split\n",
        "from sklearn.linear_model import LinearRegression\n",
        "from sklearn.metrics import mean_absolute_error,mean_squared_error,r2_score\n",
        "import joblib\n",
        "df=pd.read_csv('/content/Salary_Data.csv')"
      ]
    },
    {
      "cell_type": "code",
      "source": [
        "df.head()"
      ],
      "metadata": {
        "colab": {
          "base_uri": "https://localhost:8080/",
          "height": 206
        },
        "id": "TxUqaWTEzUfC",
        "outputId": "31ae8a85-83d2-42c7-866b-55dccab945f9"
      },
      "execution_count": 2,
      "outputs": [
        {
          "output_type": "execute_result",
          "data": {
            "text/plain": [
              "   YearsExperience   Salary\n",
              "0              1.1  39343.0\n",
              "1              1.3  46205.0\n",
              "2              1.5  37731.0\n",
              "3              2.0  43525.0\n",
              "4              2.2  39891.0"
            ],
            "text/html": [
              "\n",
              "  <div id=\"df-3fcc673d-7e28-44cb-adb0-5ad381cfa033\" class=\"colab-df-container\">\n",
              "    <div>\n",
              "<style scoped>\n",
              "    .dataframe tbody tr th:only-of-type {\n",
              "        vertical-align: middle;\n",
              "    }\n",
              "\n",
              "    .dataframe tbody tr th {\n",
              "        vertical-align: top;\n",
              "    }\n",
              "\n",
              "    .dataframe thead th {\n",
              "        text-align: right;\n",
              "    }\n",
              "</style>\n",
              "<table border=\"1\" class=\"dataframe\">\n",
              "  <thead>\n",
              "    <tr style=\"text-align: right;\">\n",
              "      <th></th>\n",
              "      <th>YearsExperience</th>\n",
              "      <th>Salary</th>\n",
              "    </tr>\n",
              "  </thead>\n",
              "  <tbody>\n",
              "    <tr>\n",
              "      <th>0</th>\n",
              "      <td>1.1</td>\n",
              "      <td>39343.0</td>\n",
              "    </tr>\n",
              "    <tr>\n",
              "      <th>1</th>\n",
              "      <td>1.3</td>\n",
              "      <td>46205.0</td>\n",
              "    </tr>\n",
              "    <tr>\n",
              "      <th>2</th>\n",
              "      <td>1.5</td>\n",
              "      <td>37731.0</td>\n",
              "    </tr>\n",
              "    <tr>\n",
              "      <th>3</th>\n",
              "      <td>2.0</td>\n",
              "      <td>43525.0</td>\n",
              "    </tr>\n",
              "    <tr>\n",
              "      <th>4</th>\n",
              "      <td>2.2</td>\n",
              "      <td>39891.0</td>\n",
              "    </tr>\n",
              "  </tbody>\n",
              "</table>\n",
              "</div>\n",
              "    <div class=\"colab-df-buttons\">\n",
              "\n",
              "  <div class=\"colab-df-container\">\n",
              "    <button class=\"colab-df-convert\" onclick=\"convertToInteractive('df-3fcc673d-7e28-44cb-adb0-5ad381cfa033')\"\n",
              "            title=\"Convert this dataframe to an interactive table.\"\n",
              "            style=\"display:none;\">\n",
              "\n",
              "  <svg xmlns=\"http://www.w3.org/2000/svg\" height=\"24px\" viewBox=\"0 -960 960 960\">\n",
              "    <path d=\"M120-120v-720h720v720H120Zm60-500h600v-160H180v160Zm220 220h160v-160H400v160Zm0 220h160v-160H400v160ZM180-400h160v-160H180v160Zm440 0h160v-160H620v160ZM180-180h160v-160H180v160Zm440 0h160v-160H620v160Z\"/>\n",
              "  </svg>\n",
              "    </button>\n",
              "\n",
              "  <style>\n",
              "    .colab-df-container {\n",
              "      display:flex;\n",
              "      gap: 12px;\n",
              "    }\n",
              "\n",
              "    .colab-df-convert {\n",
              "      background-color: #E8F0FE;\n",
              "      border: none;\n",
              "      border-radius: 50%;\n",
              "      cursor: pointer;\n",
              "      display: none;\n",
              "      fill: #1967D2;\n",
              "      height: 32px;\n",
              "      padding: 0 0 0 0;\n",
              "      width: 32px;\n",
              "    }\n",
              "\n",
              "    .colab-df-convert:hover {\n",
              "      background-color: #E2EBFA;\n",
              "      box-shadow: 0px 1px 2px rgba(60, 64, 67, 0.3), 0px 1px 3px 1px rgba(60, 64, 67, 0.15);\n",
              "      fill: #174EA6;\n",
              "    }\n",
              "\n",
              "    .colab-df-buttons div {\n",
              "      margin-bottom: 4px;\n",
              "    }\n",
              "\n",
              "    [theme=dark] .colab-df-convert {\n",
              "      background-color: #3B4455;\n",
              "      fill: #D2E3FC;\n",
              "    }\n",
              "\n",
              "    [theme=dark] .colab-df-convert:hover {\n",
              "      background-color: #434B5C;\n",
              "      box-shadow: 0px 1px 3px 1px rgba(0, 0, 0, 0.15);\n",
              "      filter: drop-shadow(0px 1px 2px rgba(0, 0, 0, 0.3));\n",
              "      fill: #FFFFFF;\n",
              "    }\n",
              "  </style>\n",
              "\n",
              "    <script>\n",
              "      const buttonEl =\n",
              "        document.querySelector('#df-3fcc673d-7e28-44cb-adb0-5ad381cfa033 button.colab-df-convert');\n",
              "      buttonEl.style.display =\n",
              "        google.colab.kernel.accessAllowed ? 'block' : 'none';\n",
              "\n",
              "      async function convertToInteractive(key) {\n",
              "        const element = document.querySelector('#df-3fcc673d-7e28-44cb-adb0-5ad381cfa033');\n",
              "        const dataTable =\n",
              "          await google.colab.kernel.invokeFunction('convertToInteractive',\n",
              "                                                    [key], {});\n",
              "        if (!dataTable) return;\n",
              "\n",
              "        const docLinkHtml = 'Like what you see? Visit the ' +\n",
              "          '<a target=\"_blank\" href=https://colab.research.google.com/notebooks/data_table.ipynb>data table notebook</a>'\n",
              "          + ' to learn more about interactive tables.';\n",
              "        element.innerHTML = '';\n",
              "        dataTable['output_type'] = 'display_data';\n",
              "        await google.colab.output.renderOutput(dataTable, element);\n",
              "        const docLink = document.createElement('div');\n",
              "        docLink.innerHTML = docLinkHtml;\n",
              "        element.appendChild(docLink);\n",
              "      }\n",
              "    </script>\n",
              "  </div>\n",
              "\n",
              "\n",
              "<div id=\"df-9b4176f8-82a2-4528-a608-aec38c62953a\">\n",
              "  <button class=\"colab-df-quickchart\" onclick=\"quickchart('df-9b4176f8-82a2-4528-a608-aec38c62953a')\"\n",
              "            title=\"Suggest charts\"\n",
              "            style=\"display:none;\">\n",
              "\n",
              "<svg xmlns=\"http://www.w3.org/2000/svg\" height=\"24px\"viewBox=\"0 0 24 24\"\n",
              "     width=\"24px\">\n",
              "    <g>\n",
              "        <path d=\"M19 3H5c-1.1 0-2 .9-2 2v14c0 1.1.9 2 2 2h14c1.1 0 2-.9 2-2V5c0-1.1-.9-2-2-2zM9 17H7v-7h2v7zm4 0h-2V7h2v10zm4 0h-2v-4h2v4z\"/>\n",
              "    </g>\n",
              "</svg>\n",
              "  </button>\n",
              "\n",
              "<style>\n",
              "  .colab-df-quickchart {\n",
              "      --bg-color: #E8F0FE;\n",
              "      --fill-color: #1967D2;\n",
              "      --hover-bg-color: #E2EBFA;\n",
              "      --hover-fill-color: #174EA6;\n",
              "      --disabled-fill-color: #AAA;\n",
              "      --disabled-bg-color: #DDD;\n",
              "  }\n",
              "\n",
              "  [theme=dark] .colab-df-quickchart {\n",
              "      --bg-color: #3B4455;\n",
              "      --fill-color: #D2E3FC;\n",
              "      --hover-bg-color: #434B5C;\n",
              "      --hover-fill-color: #FFFFFF;\n",
              "      --disabled-bg-color: #3B4455;\n",
              "      --disabled-fill-color: #666;\n",
              "  }\n",
              "\n",
              "  .colab-df-quickchart {\n",
              "    background-color: var(--bg-color);\n",
              "    border: none;\n",
              "    border-radius: 50%;\n",
              "    cursor: pointer;\n",
              "    display: none;\n",
              "    fill: var(--fill-color);\n",
              "    height: 32px;\n",
              "    padding: 0;\n",
              "    width: 32px;\n",
              "  }\n",
              "\n",
              "  .colab-df-quickchart:hover {\n",
              "    background-color: var(--hover-bg-color);\n",
              "    box-shadow: 0 1px 2px rgba(60, 64, 67, 0.3), 0 1px 3px 1px rgba(60, 64, 67, 0.15);\n",
              "    fill: var(--button-hover-fill-color);\n",
              "  }\n",
              "\n",
              "  .colab-df-quickchart-complete:disabled,\n",
              "  .colab-df-quickchart-complete:disabled:hover {\n",
              "    background-color: var(--disabled-bg-color);\n",
              "    fill: var(--disabled-fill-color);\n",
              "    box-shadow: none;\n",
              "  }\n",
              "\n",
              "  .colab-df-spinner {\n",
              "    border: 2px solid var(--fill-color);\n",
              "    border-color: transparent;\n",
              "    border-bottom-color: var(--fill-color);\n",
              "    animation:\n",
              "      spin 1s steps(1) infinite;\n",
              "  }\n",
              "\n",
              "  @keyframes spin {\n",
              "    0% {\n",
              "      border-color: transparent;\n",
              "      border-bottom-color: var(--fill-color);\n",
              "      border-left-color: var(--fill-color);\n",
              "    }\n",
              "    20% {\n",
              "      border-color: transparent;\n",
              "      border-left-color: var(--fill-color);\n",
              "      border-top-color: var(--fill-color);\n",
              "    }\n",
              "    30% {\n",
              "      border-color: transparent;\n",
              "      border-left-color: var(--fill-color);\n",
              "      border-top-color: var(--fill-color);\n",
              "      border-right-color: var(--fill-color);\n",
              "    }\n",
              "    40% {\n",
              "      border-color: transparent;\n",
              "      border-right-color: var(--fill-color);\n",
              "      border-top-color: var(--fill-color);\n",
              "    }\n",
              "    60% {\n",
              "      border-color: transparent;\n",
              "      border-right-color: var(--fill-color);\n",
              "    }\n",
              "    80% {\n",
              "      border-color: transparent;\n",
              "      border-right-color: var(--fill-color);\n",
              "      border-bottom-color: var(--fill-color);\n",
              "    }\n",
              "    90% {\n",
              "      border-color: transparent;\n",
              "      border-bottom-color: var(--fill-color);\n",
              "    }\n",
              "  }\n",
              "</style>\n",
              "\n",
              "  <script>\n",
              "    async function quickchart(key) {\n",
              "      const quickchartButtonEl =\n",
              "        document.querySelector('#' + key + ' button');\n",
              "      quickchartButtonEl.disabled = true;  // To prevent multiple clicks.\n",
              "      quickchartButtonEl.classList.add('colab-df-spinner');\n",
              "      try {\n",
              "        const charts = await google.colab.kernel.invokeFunction(\n",
              "            'suggestCharts', [key], {});\n",
              "      } catch (error) {\n",
              "        console.error('Error during call to suggestCharts:', error);\n",
              "      }\n",
              "      quickchartButtonEl.classList.remove('colab-df-spinner');\n",
              "      quickchartButtonEl.classList.add('colab-df-quickchart-complete');\n",
              "    }\n",
              "    (() => {\n",
              "      let quickchartButtonEl =\n",
              "        document.querySelector('#df-9b4176f8-82a2-4528-a608-aec38c62953a button');\n",
              "      quickchartButtonEl.style.display =\n",
              "        google.colab.kernel.accessAllowed ? 'block' : 'none';\n",
              "    })();\n",
              "  </script>\n",
              "</div>\n",
              "\n",
              "    </div>\n",
              "  </div>\n"
            ],
            "application/vnd.google.colaboratory.intrinsic+json": {
              "type": "dataframe",
              "variable_name": "df",
              "summary": "{\n  \"name\": \"df\",\n  \"rows\": 30,\n  \"fields\": [\n    {\n      \"column\": \"YearsExperience\",\n      \"properties\": {\n        \"dtype\": \"number\",\n        \"std\": 2.8378881576627184,\n        \"min\": 1.1,\n        \"max\": 10.5,\n        \"num_unique_values\": 28,\n        \"samples\": [\n          3.9,\n          9.6,\n          3.7\n        ],\n        \"semantic_type\": \"\",\n        \"description\": \"\"\n      }\n    },\n    {\n      \"column\": \"Salary\",\n      \"properties\": {\n        \"dtype\": \"number\",\n        \"std\": 27414.4297845823,\n        \"min\": 37731.0,\n        \"max\": 122391.0,\n        \"num_unique_values\": 30,\n        \"samples\": [\n          112635.0,\n          67938.0,\n          113812.0\n        ],\n        \"semantic_type\": \"\",\n        \"description\": \"\"\n      }\n    }\n  ]\n}"
            }
          },
          "metadata": {},
          "execution_count": 2
        }
      ]
    },
    {
      "cell_type": "code",
      "source": [
        "df.shape"
      ],
      "metadata": {
        "colab": {
          "base_uri": "https://localhost:8080/"
        },
        "id": "6eF4NpuVzZ8y",
        "outputId": "aea5169e-1bef-4e12-c51f-f8380d962731"
      },
      "execution_count": 4,
      "outputs": [
        {
          "output_type": "execute_result",
          "data": {
            "text/plain": [
              "(30, 2)"
            ]
          },
          "metadata": {},
          "execution_count": 4
        }
      ]
    },
    {
      "cell_type": "code",
      "source": [
        "df.info()"
      ],
      "metadata": {
        "colab": {
          "base_uri": "https://localhost:8080/"
        },
        "id": "KZFGeSlxzyWo",
        "outputId": "ba44b3bc-205f-4997-9952-770e6c9e1b69"
      },
      "execution_count": 5,
      "outputs": [
        {
          "output_type": "stream",
          "name": "stdout",
          "text": [
            "<class 'pandas.core.frame.DataFrame'>\n",
            "RangeIndex: 30 entries, 0 to 29\n",
            "Data columns (total 2 columns):\n",
            " #   Column           Non-Null Count  Dtype  \n",
            "---  ------           --------------  -----  \n",
            " 0   YearsExperience  30 non-null     float64\n",
            " 1   Salary           30 non-null     float64\n",
            "dtypes: float64(2)\n",
            "memory usage: 608.0 bytes\n"
          ]
        }
      ]
    },
    {
      "cell_type": "code",
      "source": [
        "x=df[['YearsExperience']]      #input\n",
        "y=df['Salary']                 #output"
      ],
      "metadata": {
        "id": "HsSDs8Gy0FRe"
      },
      "execution_count": 8,
      "outputs": []
    },
    {
      "cell_type": "code",
      "source": [
        "x=df.iloc[:,0].values.reshape(len(df),1)\n",
        "y=df.iloc[:,1].values"
      ],
      "metadata": {
        "id": "oJPZjbwo0qRb"
      },
      "execution_count": 9,
      "outputs": []
    },
    {
      "cell_type": "code",
      "source": [
        "xtrain,xtest,ytrain,ytest=train_test_split(x,y,test_size=0.2,random_state=2)"
      ],
      "metadata": {
        "id": "xZYiXqgr4_vL"
      },
      "execution_count": 13,
      "outputs": []
    },
    {
      "cell_type": "code",
      "source": [
        "model=LinearRegression()\n",
        "model.fit(xtrain,ytrain)"
      ],
      "metadata": {
        "colab": {
          "base_uri": "https://localhost:8080/",
          "height": 75
        },
        "id": "DAPoTnNU7MJj",
        "outputId": "7d041923-1f94-4f5d-97f9-5bcbacc68b52"
      },
      "execution_count": 16,
      "outputs": [
        {
          "output_type": "execute_result",
          "data": {
            "text/plain": [
              "LinearRegression()"
            ],
            "text/html": [
              "<style>#sk-container-id-1 {color: black;background-color: white;}#sk-container-id-1 pre{padding: 0;}#sk-container-id-1 div.sk-toggleable {background-color: white;}#sk-container-id-1 label.sk-toggleable__label {cursor: pointer;display: block;width: 100%;margin-bottom: 0;padding: 0.3em;box-sizing: border-box;text-align: center;}#sk-container-id-1 label.sk-toggleable__label-arrow:before {content: \"▸\";float: left;margin-right: 0.25em;color: #696969;}#sk-container-id-1 label.sk-toggleable__label-arrow:hover:before {color: black;}#sk-container-id-1 div.sk-estimator:hover label.sk-toggleable__label-arrow:before {color: black;}#sk-container-id-1 div.sk-toggleable__content {max-height: 0;max-width: 0;overflow: hidden;text-align: left;background-color: #f0f8ff;}#sk-container-id-1 div.sk-toggleable__content pre {margin: 0.2em;color: black;border-radius: 0.25em;background-color: #f0f8ff;}#sk-container-id-1 input.sk-toggleable__control:checked~div.sk-toggleable__content {max-height: 200px;max-width: 100%;overflow: auto;}#sk-container-id-1 input.sk-toggleable__control:checked~label.sk-toggleable__label-arrow:before {content: \"▾\";}#sk-container-id-1 div.sk-estimator input.sk-toggleable__control:checked~label.sk-toggleable__label {background-color: #d4ebff;}#sk-container-id-1 div.sk-label input.sk-toggleable__control:checked~label.sk-toggleable__label {background-color: #d4ebff;}#sk-container-id-1 input.sk-hidden--visually {border: 0;clip: rect(1px 1px 1px 1px);clip: rect(1px, 1px, 1px, 1px);height: 1px;margin: -1px;overflow: hidden;padding: 0;position: absolute;width: 1px;}#sk-container-id-1 div.sk-estimator {font-family: monospace;background-color: #f0f8ff;border: 1px dotted black;border-radius: 0.25em;box-sizing: border-box;margin-bottom: 0.5em;}#sk-container-id-1 div.sk-estimator:hover {background-color: #d4ebff;}#sk-container-id-1 div.sk-parallel-item::after {content: \"\";width: 100%;border-bottom: 1px solid gray;flex-grow: 1;}#sk-container-id-1 div.sk-label:hover label.sk-toggleable__label {background-color: #d4ebff;}#sk-container-id-1 div.sk-serial::before {content: \"\";position: absolute;border-left: 1px solid gray;box-sizing: border-box;top: 0;bottom: 0;left: 50%;z-index: 0;}#sk-container-id-1 div.sk-serial {display: flex;flex-direction: column;align-items: center;background-color: white;padding-right: 0.2em;padding-left: 0.2em;position: relative;}#sk-container-id-1 div.sk-item {position: relative;z-index: 1;}#sk-container-id-1 div.sk-parallel {display: flex;align-items: stretch;justify-content: center;background-color: white;position: relative;}#sk-container-id-1 div.sk-item::before, #sk-container-id-1 div.sk-parallel-item::before {content: \"\";position: absolute;border-left: 1px solid gray;box-sizing: border-box;top: 0;bottom: 0;left: 50%;z-index: -1;}#sk-container-id-1 div.sk-parallel-item {display: flex;flex-direction: column;z-index: 1;position: relative;background-color: white;}#sk-container-id-1 div.sk-parallel-item:first-child::after {align-self: flex-end;width: 50%;}#sk-container-id-1 div.sk-parallel-item:last-child::after {align-self: flex-start;width: 50%;}#sk-container-id-1 div.sk-parallel-item:only-child::after {width: 0;}#sk-container-id-1 div.sk-dashed-wrapped {border: 1px dashed gray;margin: 0 0.4em 0.5em 0.4em;box-sizing: border-box;padding-bottom: 0.4em;background-color: white;}#sk-container-id-1 div.sk-label label {font-family: monospace;font-weight: bold;display: inline-block;line-height: 1.2em;}#sk-container-id-1 div.sk-label-container {text-align: center;}#sk-container-id-1 div.sk-container {/* jupyter's `normalize.less` sets `[hidden] { display: none; }` but bootstrap.min.css set `[hidden] { display: none !important; }` so we also need the `!important` here to be able to override the default hidden behavior on the sphinx rendered scikit-learn.org. See: https://github.com/scikit-learn/scikit-learn/issues/21755 */display: inline-block !important;position: relative;}#sk-container-id-1 div.sk-text-repr-fallback {display: none;}</style><div id=\"sk-container-id-1\" class=\"sk-top-container\"><div class=\"sk-text-repr-fallback\"><pre>LinearRegression()</pre><b>In a Jupyter environment, please rerun this cell to show the HTML representation or trust the notebook. <br />On GitHub, the HTML representation is unable to render, please try loading this page with nbviewer.org.</b></div><div class=\"sk-container\" hidden><div class=\"sk-item\"><div class=\"sk-estimator sk-toggleable\"><input class=\"sk-toggleable__control sk-hidden--visually\" id=\"sk-estimator-id-1\" type=\"checkbox\" checked><label for=\"sk-estimator-id-1\" class=\"sk-toggleable__label sk-toggleable__label-arrow\">LinearRegression</label><div class=\"sk-toggleable__content\"><pre>LinearRegression()</pre></div></div></div></div></div>"
            ]
          },
          "metadata": {},
          "execution_count": 16
        }
      ]
    },
    {
      "cell_type": "code",
      "source": [
        "ypred=model.predict(xtest)\n",
        "ypred"
      ],
      "metadata": {
        "colab": {
          "base_uri": "https://localhost:8080/"
        },
        "id": "YM966snw7UPk",
        "outputId": "3f6a4c78-2687-478d-ce98-1bbd223f5174"
      },
      "execution_count": 17,
      "outputs": [
        {
          "output_type": "execute_result",
          "data": {
            "text/plain": [
              "array([36833.63210301, 34919.71472592, 67456.3101364 , 59800.64062805,\n",
              "       92337.23603852, 81810.69046455])"
            ]
          },
          "metadata": {},
          "execution_count": 17
        }
      ]
    },
    {
      "cell_type": "code",
      "source": [
        "#draw line of regression\n",
        "plt.scatter(xtrain,ytrain,color='blue',label='Actual Points')\n",
        "plt.plot(xtrain,model.predict(xtrain),color='red',label='Predicted Line')\n",
        "plt.plot(xtrain,model.predict(xtrain),color='grey',lw=3,label='Line of Regression')\n",
        "plt.legend()\n",
        "plt.show()"
      ],
      "metadata": {
        "colab": {
          "base_uri": "https://localhost:8080/",
          "height": 430
        },
        "id": "N3Erck8oGAUt",
        "outputId": "29e1b03a-818b-4776-be0b-a34fbc9088e8"
      },
      "execution_count": 47,
      "outputs": [
        {
          "output_type": "display_data",
          "data": {
            "text/plain": [
              "<Figure size 640x480 with 1 Axes>"
            ],
            "image/png": "[encoded data removed]"
          },
          "metadata": {}
        }
      ]
    },
    {
      "cell_type": "code",
      "source": [
        "plt.scatter(xtest,ytest,color='blue',label='Actual Points')\n",
        "plt.plot(xtest,model.predict(xtest),color='red',label='Predicted Line')\n",
        "plt.plot(xtest,model.predict(xtest),color='grey',lw=3,label='Line of Regression')\n",
        "plt.legend()\n",
        "plt.show()"
      ],
      "metadata": {
        "colab": {
          "base_uri": "https://localhost:8080/",
          "height": 430
        },
        "id": "1RpKEzuLHg-h",
        "outputId": "def4300f-30de-45a1-a82c-a444c96e373a"
      },
      "execution_count": 43,
      "outputs": [
        {
          "output_type": "display_data",
          "data": {
            "text/plain": [
              "<Figure size 640x480 with 1 Axes>"
            ],
            "image/png": "[encoded data removed]"
          },
          "metadata": {}
        }
      ]
    },
    {
      "cell_type": "code",
      "source": [
        "data=pd.DataFrame({'Actual':ytest,'Predicted':ypred})\n",
        "data"
      ],
      "metadata": {
        "colab": {
          "base_uri": "https://localhost:8080/",
          "height": 238
        },
        "id": "KBmbST6n-MHm",
        "outputId": "065dc160-5904-48f0-836f-b0c14bdfea2b"
      },
      "execution_count": 25,
      "outputs": [
        {
          "output_type": "execute_result",
          "data": {
            "text/plain": [
              "    Actual     Predicted\n",
              "0  46205.0  36833.632103\n",
              "1  39343.0  34919.714726\n",
              "2  61111.0  67456.310136\n",
              "3  57189.0  59800.640628\n",
              "4  98273.0  92337.236039\n",
              "5  93940.0  81810.690465"
            ],
            "text/html": [
              "\n",
              "  <div id=\"df-e827c692-3335-42f8-8fc7-053ee0d999b2\" class=\"colab-df-container\">\n",
              "    <div>\n",
              "<style scoped>\n",
              "    .dataframe tbody tr th:only-of-type {\n",
              "        vertical-align: middle;\n",
              "    }\n",
              "\n",
              "    .dataframe tbody tr th {\n",
              "        vertical-align: top;\n",
              "    }\n",
              "\n",
              "    .dataframe thead th {\n",
              "        text-align: right;\n",
              "    }\n",
              "</style>\n",
              "<table border=\"1\" class=\"dataframe\">\n",
              "  <thead>\n",
              "    <tr style=\"text-align: right;\">\n",
              "      <th></th>\n",
              "      <th>Actual</th>\n",
              "      <th>Predicted</th>\n",
              "    </tr>\n",
              "  </thead>\n",
              "  <tbody>\n",
              "    <tr>\n",
              "      <th>0</th>\n",
              "      <td>46205.0</td>\n",
              "      <td>36833.632103</td>\n",
              "    </tr>\n",
              "    <tr>\n",
              "      <th>1</th>\n",
              "      <td>39343.0</td>\n",
              "      <td>34919.714726</td>\n",
              "    </tr>\n",
              "    <tr>\n",
              "      <th>2</th>\n",
              "      <td>61111.0</td>\n",
              "      <td>67456.310136</td>\n",
              "    </tr>\n",
              "    <tr>\n",
              "      <th>3</th>\n",
              "      <td>57189.0</td>\n",
              "      <td>59800.640628</td>\n",
              "    </tr>\n",
              "    <tr>\n",
              "      <th>4</th>\n",
              "      <td>98273.0</td>\n",
              "      <td>92337.236039</td>\n",
              "    </tr>\n",
              "    <tr>\n",
              "      <th>5</th>\n",
              "      <td>93940.0</td>\n",
              "      <td>81810.690465</td>\n",
              "    </tr>\n",
              "  </tbody>\n",
              "</table>\n",
              "</div>\n",
              "    <div class=\"colab-df-buttons\">\n",
              "\n",
              "  <div class=\"colab-df-container\">\n",
              "    <button class=\"colab-df-convert\" onclick=\"convertToInteractive('df-e827c692-3335-42f8-8fc7-053ee0d999b2')\"\n",
              "            title=\"Convert this dataframe to an interactive table.\"\n",
              "            style=\"display:none;\">\n",
              "\n",
              "  <svg xmlns=\"http://www.w3.org/2000/svg\" height=\"24px\" viewBox=\"0 -960 960 960\">\n",
              "    <path d=\"M120-120v-720h720v720H120Zm60-500h600v-160H180v160Zm220 220h160v-160H400v160Zm0 220h160v-160H400v160ZM180-400h160v-160H180v160Zm440 0h160v-160H620v160ZM180-180h160v-160H180v160Zm440 0h160v-160H620v160Z\"/>\n",
              "  </svg>\n",
              "    </button>\n",
              "\n",
              "  <style>\n",
              "    .colab-df-container {\n",
              "      display:flex;\n",
              "      gap: 12px;\n",
              "    }\n",
              "\n",
              "    .colab-df-convert {\n",
              "      background-color: #E8F0FE;\n",
              "      border: none;\n",
              "      border-radius: 50%;\n",
              "      cursor: pointer;\n",
              "      display: none;\n",
              "      fill: #1967D2;\n",
              "      height: 32px;\n",
              "      padding: 0 0 0 0;\n",
              "      width: 32px;\n",
              "    }\n",
              "\n",
              "    .colab-df-convert:hover {\n",
              "      background-color: #E2EBFA;\n",
              "      box-shadow: 0px 1px 2px rgba(60, 64, 67, 0.3), 0px 1px 3px 1px rgba(60, 64, 67, 0.15);\n",
              "      fill: #174EA6;\n",
              "    }\n",
              "\n",
              "    .colab-df-buttons div {\n",
              "      margin-bottom: 4px;\n",
              "    }\n",
              "\n",
              "    [theme=dark] .colab-df-convert {\n",
              "      background-color: #3B4455;\n",
              "      fill: #D2E3FC;\n",
              "    }\n",
              "\n",
              "    [theme=dark] .colab-df-convert:hover {\n",
              "      background-color: #434B5C;\n",
              "      box-shadow: 0px 1px 3px 1px rgba(0, 0, 0, 0.15);\n",
              "      filter: drop-shadow(0px 1px 2px rgba(0, 0, 0, 0.3));\n",
              "      fill: #FFFFFF;\n",
              "    }\n",
              "  </style>\n",
              "\n",
              "    <script>\n",
              "      const buttonEl =\n",
              "        document.querySelector('#df-e827c692-3335-42f8-8fc7-053ee0d999b2 button.colab-df-convert');\n",
              "      buttonEl.style.display =\n",
              "        google.colab.kernel.accessAllowed ? 'block' : 'none';\n",
              "\n",
              "      async function convertToInteractive(key) {\n",
              "        const element = document.querySelector('#df-e827c692-3335-42f8-8fc7-053ee0d999b2');\n",
              "        const dataTable =\n",
              "          await google.colab.kernel.invokeFunction('convertToInteractive',\n",
              "                                                    [key], {});\n",
              "        if (!dataTable) return;\n",
              "\n",
              "        const docLinkHtml = 'Like what you see? Visit the ' +\n",
              "          '<a target=\"_blank\" href=https://colab.research.google.com/notebooks/data_table.ipynb>data table notebook</a>'\n",
              "          + ' to learn more about interactive tables.';\n",
              "        element.innerHTML = '';\n",
              "        dataTable['output_type'] = 'display_data';\n",
              "        await google.colab.output.renderOutput(dataTable, element);\n",
              "        const docLink = document.createElement('div');\n",
              "        docLink.innerHTML = docLinkHtml;\n",
              "        element.appendChild(docLink);\n",
              "      }\n",
              "    </script>\n",
              "  </div>\n",
              "\n",
              "\n",
              "<div id=\"df-2fb55515-1ee7-4bbc-a2ec-fb93ac7e4b45\">\n",
              "  <button class=\"colab-df-quickchart\" onclick=\"quickchart('df-2fb55515-1ee7-4bbc-a2ec-fb93ac7e4b45')\"\n",
              "            title=\"Suggest charts\"\n",
              "            style=\"display:none;\">\n",
              "\n",
              "<svg xmlns=\"http://www.w3.org/2000/svg\" height=\"24px\"viewBox=\"0 0 24 24\"\n",
              "     width=\"24px\">\n",
              "    <g>\n",
              "        <path d=\"M19 3H5c-1.1 0-2 .9-2 2v14c0 1.1.9 2 2 2h14c1.1 0 2-.9 2-2V5c0-1.1-.9-2-2-2zM9 17H7v-7h2v7zm4 0h-2V7h2v10zm4 0h-2v-4h2v4z\"/>\n",
              "    </g>\n",
              "</svg>\n",
              "  </button>\n",
              "\n",
              "<style>\n",
              "  .colab-df-quickchart {\n",
              "      --bg-color: #E8F0FE;\n",
              "      --fill-color: #1967D2;\n",
              "      --hover-bg-color: #E2EBFA;\n",
              "      --hover-fill-color: #174EA6;\n",
              "      --disabled-fill-color: #AAA;\n",
              "      --disabled-bg-color: #DDD;\n",
              "  }\n",
              "\n",
              "  [theme=dark] .colab-df-quickchart {\n",
              "      --bg-color: #3B4455;\n",
              "      --fill-color: #D2E3FC;\n",
              "      --hover-bg-color: #434B5C;\n",
              "      --hover-fill-color: #FFFFFF;\n",
              "      --disabled-bg-color: #3B4455;\n",
              "      --disabled-fill-color: #666;\n",
              "  }\n",
              "\n",
              "  .colab-df-quickchart {\n",
              "    background-color: var(--bg-color);\n",
              "    border: none;\n",
              "    border-radius: 50%;\n",
              "    cursor: pointer;\n",
              "    display: none;\n",
              "    fill: var(--fill-color);\n",
              "    height: 32px;\n",
              "    padding: 0;\n",
              "    width: 32px;\n",
              "  }\n",
              "\n",
              "  .colab-df-quickchart:hover {\n",
              "    background-color: var(--hover-bg-color);\n",
              "    box-shadow: 0 1px 2px rgba(60, 64, 67, 0.3), 0 1px 3px 1px rgba(60, 64, 67, 0.15);\n",
              "    fill: var(--button-hover-fill-color);\n",
              "  }\n",
              "\n",
              "  .colab-df-quickchart-complete:disabled,\n",
              "  .colab-df-quickchart-complete:disabled:hover {\n",
              "    background-color: var(--disabled-bg-color);\n",
              "    fill: var(--disabled-fill-color);\n",
              "    box-shadow: none;\n",
              "  }\n",
              "\n",
              "  .colab-df-spinner {\n",
              "    border: 2px solid var(--fill-color);\n",
              "    border-color: transparent;\n",
              "    border-bottom-color: var(--fill-color);\n",
              "    animation:\n",
              "      spin 1s steps(1) infinite;\n",
              "  }\n",
              "\n",
              "  @keyframes spin {\n",
              "    0% {\n",
              "      border-color: transparent;\n",
              "      border-bottom-color: var(--fill-color);\n",
              "      border-left-color: var(--fill-color);\n",
              "    }\n",
              "    20% {\n",
              "      border-color: transparent;\n",
              "      border-left-color: var(--fill-color);\n",
              "      border-top-color: var(--fill-color);\n",
              "    }\n",
              "    30% {\n",
              "      border-color: transparent;\n",
              "      border-left-color: var(--fill-color);\n",
              "      border-top-color: var(--fill-color);\n",
              "      border-right-color: var(--fill-color);\n",
              "    }\n",
              "    40% {\n",
              "      border-color: transparent;\n",
              "      border-right-color: var(--fill-color);\n",
              "      border-top-color: var(--fill-color);\n",
              "    }\n",
              "    60% {\n",
              "      border-color: transparent;\n",
              "      border-right-color: var(--fill-color);\n",
              "    }\n",
              "    80% {\n",
              "      border-color: transparent;\n",
              "      border-right-color: var(--fill-color);\n",
              "      border-bottom-color: var(--fill-color);\n",
              "    }\n",
              "    90% {\n",
              "      border-color: transparent;\n",
              "      border-bottom-color: var(--fill-color);\n",
              "    }\n",
              "  }\n",
              "</style>\n",
              "\n",
              "  <script>\n",
              "    async function quickchart(key) {\n",
              "      const quickchartButtonEl =\n",
              "        document.querySelector('#' + key + ' button');\n",
              "      quickchartButtonEl.disabled = true;  // To prevent multiple clicks.\n",
              "      quickchartButtonEl.classList.add('colab-df-spinner');\n",
              "      try {\n",
              "        const charts = await google.colab.kernel.invokeFunction(\n",
              "            'suggestCharts', [key], {});\n",
              "      } catch (error) {\n",
              "        console.error('Error during call to suggestCharts:', error);\n",
              "      }\n",
              "      quickchartButtonEl.classList.remove('colab-df-spinner');\n",
              "      quickchartButtonEl.classList.add('colab-df-quickchart-complete');\n",
              "    }\n",
              "    (() => {\n",
              "      let quickchartButtonEl =\n",
              "        document.querySelector('#df-2fb55515-1ee7-4bbc-a2ec-fb93ac7e4b45 button');\n",
              "      quickchartButtonEl.style.display =\n",
              "        google.colab.kernel.accessAllowed ? 'block' : 'none';\n",
              "    })();\n",
              "  </script>\n",
              "</div>\n",
              "\n",
              "  <div id=\"id_402db5f3-46dd-4a17-8627-55d18723ae0a\">\n",
              "    <style>\n",
              "      .colab-df-generate {\n",
              "        background-color: #E8F0FE;\n",
              "        border: none;\n",
              "        border-radius: 50%;\n",
              "        cursor: pointer;\n",
              "        display: none;\n",
              "        fill: #1967D2;\n",
              "        height: 32px;\n",
              "        padding: 0 0 0 0;\n",
              "        width: 32px;\n",
              "      }\n",
              "\n",
              "      .colab-df-generate:hover {\n",
              "        background-color: #E2EBFA;\n",
              "        box-shadow: 0px 1px 2px rgba(60, 64, 67, 0.3), 0px 1px 3px 1px rgba(60, 64, 67, 0.15);\n",
              "        fill: #174EA6;\n",
              "      }\n",
              "\n",
              "      [theme=dark] .colab-df-generate {\n",
              "        background-color: #3B4455;\n",
              "        fill: #D2E3FC;\n",
              "      }\n",
              "\n",
              "      [theme=dark] .colab-df-generate:hover {\n",
              "        background-color: #434B5C;\n",
              "        box-shadow: 0px 1px 3px 1px rgba(0, 0, 0, 0.15);\n",
              "        filter: drop-shadow(0px 1px 2px rgba(0, 0, 0, 0.3));\n",
              "        fill: #FFFFFF;\n",
              "      }\n",
              "    </style>\n",
              "    <button class=\"colab-df-generate\" onclick=\"generateWithVariable('data')\"\n",
              "            title=\"Generate code using this dataframe.\"\n",
              "            style=\"display:none;\">\n",
              "\n",
              "  <svg xmlns=\"http://www.w3.org/2000/svg\" height=\"24px\"viewBox=\"0 0 24 24\"\n",
              "       width=\"24px\">\n",
              "    <path d=\"M7,19H8.4L18.45,9,17,7.55,7,17.6ZM5,21V16.75L18.45,3.32a2,2,0,0,1,2.83,0l1.4,1.43a1.91,1.91,0,0,1,.58,1.4,1.91,1.91,0,0,1-.58,1.4L9.25,21ZM18.45,9,17,7.55Zm-12,3A5.31,5.31,0,0,0,4.9,8.1,5.31,5.31,0,0,0,1,6.5,5.31,5.31,0,0,0,4.9,4.9,5.31,5.31,0,0,0,6.5,1,5.31,5.31,0,0,0,8.1,4.9,5.31,5.31,0,0,0,12,6.5,5.46,5.46,0,0,0,6.5,12Z\"/>\n",
              "  </svg>\n",
              "    </button>\n",
              "    <script>\n",
              "      (() => {\n",
              "      const buttonEl =\n",
              "        document.querySelector('#id_402db5f3-46dd-4a17-8627-55d18723ae0a button.colab-df-generate');\n",
              "      buttonEl.style.display =\n",
              "        google.colab.kernel.accessAllowed ? 'block' : 'none';\n",
              "\n",
              "      buttonEl.onclick = () => {\n",
              "        google.colab.notebook.generateWithVariable('data');\n",
              "      }\n",
              "      })();\n",
              "    </script>\n",
              "  </div>\n",
              "\n",
              "    </div>\n",
              "  </div>\n"
            ],
            "application/vnd.google.colaboratory.intrinsic+json": {
              "type": "dataframe",
              "variable_name": "data",
              "summary": "{\n  \"name\": \"data\",\n  \"rows\": 6,\n  \"fields\": [\n    {\n      \"column\": \"Actual\",\n      \"properties\": {\n        \"dtype\": \"number\",\n        \"std\": 24601.476479403973,\n        \"min\": 39343.0,\n        \"max\": 98273.0,\n        \"num_unique_values\": 6,\n        \"samples\": [\n          46205.0,\n          39343.0,\n          93940.0\n        ],\n        \"semantic_type\": \"\",\n        \"description\": \"\"\n      }\n    },\n    {\n      \"column\": \"Predicted\",\n      \"properties\": {\n        \"dtype\": \"number\",\n        \"std\": 23297.571513927567,\n        \"min\": 34919.714725924496,\n        \"max\": 92337.23603852169,\n        \"num_unique_values\": 6,\n        \"samples\": [\n          36833.63210301107,\n          34919.714725924496,\n          81810.69046454554\n        ],\n        \"semantic_type\": \"\",\n        \"description\": \"\"\n      }\n    }\n  ]\n}"
            }
          },
          "metadata": {},
          "execution_count": 25
        }
      ]
    },
    {
      "cell_type": "code",
      "source": [
        "#generate graph with actual and predicted values\n",
        "plt.scatter(xtest,ytest,color='red')\n",
        "plt.plot(xtest,ypred,color='blue')\n",
        "plt.title('Actual vs Predicted')\n",
        "plt.xlabel('YearsExperience')\n",
        "plt.ylabel('Salary')\n",
        "plt.show()\n"
      ],
      "metadata": {
        "colab": {
          "base_uri": "https://localhost:8080/",
          "height": 472
        },
        "id": "L7M2yxEz-RmP",
        "outputId": "80d8f670-4b20-4558-c483-1b486e4d569d"
      },
      "execution_count": 26,
      "outputs": [
        {
          "output_type": "display_data",
          "data": {
            "text/plain": [
              "<Figure size 640x480 with 1 Axes>"
            ],
            "image/png": "[encoded data removed]"
          },
          "metadata": {}
        }
      ]
    },
    {
      "cell_type": "code",
      "source": [
        "graph=data.head(5)\n",
        "graph.plot(kind='bar',figsize=(6,6))"
      ],
      "metadata": {
        "colab": {
          "base_uri": "https://localhost:8080/",
          "height": 534
        },
        "id": "2JEia540-9hN",
        "outputId": "912e06c6-e4a4-41d2-8167-f06e0cb4641d"
      },
      "execution_count": 36,
      "outputs": [
        {
          "output_type": "execute_result",
          "data": {
            "text/plain": [
              "<Axes: >"
            ]
          },
          "metadata": {},
          "execution_count": 36
        },
        {
          "output_type": "display_data",
          "data": {
            "text/plain": [
              "<Figure size 600x600 with 1 Axes>"
            ],
            "image/png": "[encoded data removed]"
          },
          "metadata": {}
        }
      ]
    },
    {
      "cell_type": "code",
      "source": [
        "mae=mean_absolute_error(ytest,ypred)\n",
        "mse=mean_squared_error(ytest,ypred)\n",
        "r2=r2_score(ytest,ypred)\n",
        "print(mae)\n",
        "print(mse)\n",
        "print(r2)\n"
      ],
      "metadata": {
        "colab": {
          "base_uri": "https://localhost:8080/"
        },
        "id": "LrjXECxt8Pud",
        "outputId": "8f51f4e0-e022-4f5f-e2c5-19cecd985e3d"
      },
      "execution_count": 24,
      "outputs": [
        {
          "output_type": "stream",
          "name": "stdout",
          "text": [
            "6802.779572073899\n",
            "56137509.997825526\n",
            "0.8886956733784563\n"
          ]
        }
      ]
    },
    {
      "cell_type": "code",
      "source": [
        "model.intercept_"
      ],
      "metadata": {
        "colab": {
          "base_uri": "https://localhost:8080/"
        },
        "id": "48BmKdW59xvJ",
        "outputId": "1121a9cc-9582-44a5-dda8-37460f4ef9fd"
      },
      "execution_count": 48,
      "outputs": [
        {
          "output_type": "execute_result",
          "data": {
            "text/plain": [
              "24393.169151948343"
            ]
          },
          "metadata": {},
          "execution_count": 48
        }
      ]
    },
    {
      "cell_type": "code",
      "source": [
        "accuracy=[]\n",
        "for i in range(501):\n",
        "  xtrain_1,xtest_1,ytrain_1,ytest_1=train_test_split(x,y,test_size=0.2,random_state=i)\n",
        "  model_1=LinearRegression()\n",
        "  model_1.fit(xtrain_1,ytrain_1)\n",
        "  ypred_1=model_1.predict(xtest_1)\n",
        "  score_1=r2_score(ytest_1,ypred_1)\n",
        "  accuracy.append(r2_score(ytest_1,ypred_1))"
      ],
      "metadata": {
        "id": "UzrKgzkWIi4V"
      },
      "execution_count": 50,
      "outputs": []
    },
    {
      "cell_type": "code",
      "source": [
        "print(np.max(accuracy))\n",
        "print(np.argmax(accuracy))"
      ],
      "metadata": {
        "colab": {
          "base_uri": "https://localhost:8080/"
        },
        "id": "c-Z2DKR0JCD3",
        "outputId": "cfdc85bf-59d9-49a8-f821-81a0b9c82b95"
      },
      "execution_count": 54,
      "outputs": [
        {
          "output_type": "stream",
          "name": "stdout",
          "text": [
            "0.9952429110093546\n",
            "200\n"
          ]
        }
      ]
    },
    {
      "cell_type": "code",
      "source": [
        "accuracy"
      ],
      "metadata": {
        "colab": {
          "base_uri": "https://localhost:8080/"
        },
        "id": "pA3GsfrGJgmC",
        "outputId": "60a136ab-73cc-48ac-a86b-3bbb016d220a"
      },
      "execution_count": 55,
      "outputs": [
        {
          "output_type": "execute_result",
          "data": {
            "text/plain": [
              "[0.988169515729126,\n",
              " 0.7616681465472094,\n",
              " 0.8886956733784563,\n",
              " 0.9695039421049821,\n",
              " 0.9504404484884267,\n",
              " 0.9439628569611376,\n",
              " 0.9368146227107087,\n",
              " 0.8143022783109006,\n",
              " 0.9631182154839476,\n",
              " 0.9388416537799072,\n",
              " 0.9816423482070253,\n",
              " 0.940882728477622,\n",
              " 0.9429269163491423,\n",
              " 0.9394460269118793,\n",
              " 0.9606215790278543,\n",
              " 0.8697012433817218,\n",
              " 0.7949890249259297,\n",
              " 0.9384744808306155,\n",
              " 0.8864330645841889,\n",
              " 0.9415531751862448,\n",
              " 0.9441299149555877,\n",
              " 0.9398582853702572,\n",
              " 0.8870702615446784,\n",
              " 0.9184170849214232,\n",
              " 0.9520702017424296,\n",
              " 0.9531732818427658,\n",
              " 0.9835849730044816,\n",
              " 0.9636425773684423,\n",
              " 0.9217841352107623,\n",
              " 0.9467172742609803,\n",
              " 0.9944092048209745,\n",
              " 0.8967649524853983,\n",
              " 0.8985995727228404,\n",
              " 0.9350785573211586,\n",
              " 0.9244141448042442,\n",
              " 0.8839476512584652,\n",
              " 0.955021106900739,\n",
              " 0.9778242092591888,\n",
              " 0.972479448737762,\n",
              " 0.9928344802911048,\n",
              " 0.7775083459037234,\n",
              " 0.9802519469633169,\n",
              " 0.9024461774180497,\n",
              " 0.8688045158887867,\n",
              " 0.934951117043928,\n",
              " 0.9250487875802145,\n",
              " 0.9789129767378081,\n",
              " 0.98399193890564,\n",
              " 0.980277279178695,\n",
              " 0.9497670285223544,\n",
              " 0.8824679635169839,\n",
              " 0.9608624689052039,\n",
              " 0.9743646706957548,\n",
              " 0.9501154883629506,\n",
              " 0.9492729968840661,\n",
              " 0.8924137091604106,\n",
              " 0.9804067424885895,\n",
              " 0.809635146935763,\n",
              " 0.4815220524569873,\n",
              " 0.9547990109846669,\n",
              " 0.9139925364405546,\n",
              " 0.9505222881477348,\n",
              " 0.9719509793938971,\n",
              " 0.9582008985104701,\n",
              " 0.9140067830429534,\n",
              " 0.811270086006565,\n",
              " 0.7782285644532063,\n",
              " 0.9588832495320916,\n",
              " 0.9791787060652751,\n",
              " 0.8711824073761935,\n",
              " 0.9429397733426299,\n",
              " 0.9694792167947474,\n",
              " 0.9562771755752736,\n",
              " 0.981214310330871,\n",
              " 0.9618591691900452,\n",
              " 0.9652242905568412,\n",
              " 0.8468270318540349,\n",
              " 0.9782012346646264,\n",
              " 0.9861836585536035,\n",
              " 0.9806625667591384,\n",
              " 0.9356346952232668,\n",
              " 0.9760426364249574,\n",
              " 0.9561094647440507,\n",
              " 0.953240654259053,\n",
              " 0.9535679874886691,\n",
              " 0.977173992682254,\n",
              " 0.9743110017459554,\n",
              " 0.9534669191518677,\n",
              " 0.9770761663991681,\n",
              " 0.9744265816506664,\n",
              " 0.9676701872390631,\n",
              " 0.5524142829082107,\n",
              " 0.9793995823406392,\n",
              " 0.9682219576297961,\n",
              " 0.9676991009836634,\n",
              " 0.9059754831220264,\n",
              " 0.9359396033635742,\n",
              " 0.9537039102493191,\n",
              " 0.33975138540227356,\n",
              " 0.9102354571044845,\n",
              " 0.9720725422361338,\n",
              " 0.993422386435995,\n",
              " 0.9514303308376894,\n",
              " 0.993951370348244,\n",
              " 0.923551573304823,\n",
              " 0.942305013171397,\n",
              " 0.948036562674564,\n",
              " 0.9167407278644975,\n",
              " 0.9581214060756787,\n",
              " 0.974143810559606,\n",
              " 0.9458719613187272,\n",
              " 0.9140896140716743,\n",
              " 0.9744533591342565,\n",
              " 0.7067080298759723,\n",
              " 0.8969184343196762,\n",
              " 0.9643784690800865,\n",
              " 0.9809041874061502,\n",
              " 0.9624544504513641,\n",
              " 0.9403605009491255,\n",
              " 0.9569237636359416,\n",
              " 0.969201601811706,\n",
              " 0.9426102773227347,\n",
              " 0.8314282027856672,\n",
              " 0.9711590965698116,\n",
              " 0.959425996638188,\n",
              " 0.8853691773789206,\n",
              " 0.9351781113190845,\n",
              " 0.88713702109919,\n",
              " 0.8816634513963472,\n",
              " 0.9766134443801546,\n",
              " 0.9693237228921454,\n",
              " 0.9628150835061432,\n",
              " 0.9353949018583007,\n",
              " 0.9709691542389867,\n",
              " 0.9035398966004998,\n",
              " 0.9741726420842486,\n",
              " 0.957842520171026,\n",
              " 0.9711354452524612,\n",
              " 0.8694650910857331,\n",
              " 0.9546561177635546,\n",
              " 0.9758329776898194,\n",
              " 0.9450380685152899,\n",
              " 0.9559923177407321,\n",
              " 0.964933658486602,\n",
              " 0.9448507972795978,\n",
              " 0.844965000029796,\n",
              " 0.5822280600077009,\n",
              " 0.9478316304839808,\n",
              " 0.9075029901638413,\n",
              " 0.9516106361115769,\n",
              " 0.9596167623070662,\n",
              " 0.9402503517787065,\n",
              " 0.8957631087832572,\n",
              " 0.9145394103280926,\n",
              " 0.9426402309990841,\n",
              " 0.9518369325259827,\n",
              " 0.933793219956961,\n",
              " 0.9843512789791997,\n",
              " 0.9585524727702663,\n",
              " 0.9780987254510393,\n",
              " 0.9621705643828616,\n",
              " 0.949444823144052,\n",
              " 0.9200482925733225,\n",
              " 0.9499456323207299,\n",
              " 0.9555715853779447,\n",
              " 0.8839908155845717,\n",
              " 0.9305836440315953,\n",
              " 0.9932156213730909,\n",
              " 0.9864154376087744,\n",
              " 0.9513552895244857,\n",
              " 0.8773894469882996,\n",
              " 0.9609299792956711,\n",
              " 0.9201348920476703,\n",
              " 0.9044203412945562,\n",
              " 0.9614687354107081,\n",
              " 0.9669073401764426,\n",
              " 0.8843691365028532,\n",
              " 0.8976424872331359,\n",
              " 0.9502545043219972,\n",
              " 0.8927546777449028,\n",
              " 0.9629485298775463,\n",
              " 0.7440224096019279,\n",
              " 0.9172878674673552,\n",
              " 0.9761560081553321,\n",
              " 0.9685177747353091,\n",
              " 0.8823148255766505,\n",
              " 0.9634854326525794,\n",
              " 0.7788592737857019,\n",
              " 0.9254482470869073,\n",
              " 0.8872094764399351,\n",
              " 0.9478290543549621,\n",
              " 0.9376525545746504,\n",
              " 0.6075719619008022,\n",
              " 0.9407957279953787,\n",
              " 0.9505478201330253,\n",
              " 0.9514192201957139,\n",
              " 0.9623404402868286,\n",
              " 0.9680210264507271,\n",
              " 0.98212789445011,\n",
              " 0.9043638161837544,\n",
              " 0.9952429110093546,\n",
              " 0.9574899187661282,\n",
              " 0.9906524413209953,\n",
              " 0.9482503595698928,\n",
              " 0.9647766965261255,\n",
              " 0.9494339723924751,\n",
              " 0.9157179140109509,\n",
              " 0.9663509078659444,\n",
              " 0.9805909492370417,\n",
              " 0.8767618756965904,\n",
              " 0.9062046482988906,\n",
              " 0.9501209102439497,\n",
              " 0.9515727163406867,\n",
              " 0.9349561564235962,\n",
              " 0.42322027491470726,\n",
              " 0.9628724892712616,\n",
              " 0.8977817993201394,\n",
              " 0.9618961564380784,\n",
              " 0.9653156219786904,\n",
              " 0.9528659580761882,\n",
              " 0.9612823827734808,\n",
              " 0.9329164770976629,\n",
              " 0.976523249176461,\n",
              " 0.9574763758899383,\n",
              " 0.9626667015805849,\n",
              " 0.9387654047932767,\n",
              " 0.9748393431398527,\n",
              " 0.93832129615285,\n",
              " 0.9249320758180195,\n",
              " 0.9390586506255431,\n",
              " 0.9537671927002505,\n",
              " 0.9578955059593178,\n",
              " 0.9821531726157032,\n",
              " 0.8802490427653341,\n",
              " 0.9400380805593752,\n",
              " 0.9506840140225761,\n",
              " 0.9240203987172712,\n",
              " 0.96069794282716,\n",
              " 0.9557364730110924,\n",
              " 0.9315439245320289,\n",
              " 0.9545758377518041,\n",
              " 0.9508540777006826,\n",
              " 0.9752893678304031,\n",
              " 0.9694451439354064,\n",
              " 0.9063631622439331,\n",
              " 0.9445465850668773,\n",
              " 0.9422466156971665,\n",
              " 0.9689097172430862,\n",
              " 0.9483473444970703,\n",
              " 0.9677654478381044,\n",
              " 0.8888932290918311,\n",
              " 0.9397924907779216,\n",
              " 0.9702346045953483,\n",
              " 0.9842569785332597,\n",
              " 0.9474569382824549,\n",
              " 0.9401026714509406,\n",
              " 0.9553041067326024,\n",
              " 0.9887014555518095,\n",
              " 0.9249483001266275,\n",
              " 0.9801241683705093,\n",
              " 0.8827913206666979,\n",
              " 0.936790827910295,\n",
              " 0.9437159112219031,\n",
              " 0.9575703835213644,\n",
              " 0.9276186014844053,\n",
              " 0.9094343639020072,\n",
              " 0.8180546128860342,\n",
              " 0.9580711077077905,\n",
              " 0.8629195023134445,\n",
              " 0.8939000539996174,\n",
              " 0.9258011670995567,\n",
              " 0.9723662701717581,\n",
              " 0.9240388343632948,\n",
              " 0.9514218884351788,\n",
              " 0.9286663865985184,\n",
              " 0.915977653412763,\n",
              " 0.934294156342874,\n",
              " 0.8510306040950117,\n",
              " 0.9313387951265095,\n",
              " 0.8962467925227375,\n",
              " 0.8582528171086797,\n",
              " 0.9386936970053863,\n",
              " 0.9644682536114649,\n",
              " 0.9671688815456763,\n",
              " 0.9569677288711765,\n",
              " 0.9686286434665914,\n",
              " 0.968130737754169,\n",
              " 0.9584963768110077,\n",
              " 0.9284391238003984,\n",
              " 0.8709522316877528,\n",
              " 0.8998260743075644,\n",
              " 0.9828929197755568,\n",
              " 0.913177990512414,\n",
              " 0.9103842809431602,\n",
              " 0.9620915954900193,\n",
              " 0.8224364077189524,\n",
              " 0.9747424830242787,\n",
              " 0.9678780881362677,\n",
              " 0.9771569669145379,\n",
              " 0.9237622740490861,\n",
              " -2.175274357832557,\n",
              " 0.9782741040339776,\n",
              " 0.9827282185048205,\n",
              " 0.9832970238943499,\n",
              " 0.9868137587268364,\n",
              " 0.9228797371934636,\n",
              " 0.9241953831328015,\n",
              " 0.9706829077505805,\n",
              " 0.9734828712263711,\n",
              " 0.9668318629149866,\n",
              " 0.9755453723566424,\n",
              " 0.9717199946773938,\n",
              " 0.8952012705427326,\n",
              " 0.9345232296884088,\n",
              " 0.9018764358154756,\n",
              " 0.9553217976056723,\n",
              " 0.961770642601842,\n",
              " 0.9420311956797234,\n",
              " 0.9289407262064421,\n",
              " 0.9655705070629778,\n",
              " 0.9604782062347975,\n",
              " 0.9290148357619183,\n",
              " 0.988024925310538,\n",
              " 0.9421321136934614,\n",
              " 0.9848192060235849,\n",
              " 0.9582033915914415,\n",
              " 0.9765888431364823,\n",
              " 0.8523219589927007,\n",
              " 0.9527535376592942,\n",
              " 0.9364773378148156,\n",
              " 0.9750335178364884,\n",
              " 0.9197261800045895,\n",
              " 0.9611092645555072,\n",
              " 0.9421901163257497,\n",
              " 0.9568229413474396,\n",
              " 0.9624934239394792,\n",
              " 0.9442032416197734,\n",
              " 0.9415967828419688,\n",
              " 0.8741621911554218,\n",
              " 0.9187927812701799,\n",
              " 0.8777336855392486,\n",
              " 0.77417380188522,\n",
              " 0.4927649907153494,\n",
              " 0.9174129229623054,\n",
              " 0.913632186052151,\n",
              " 0.9623661311342274,\n",
              " 0.9721335782446513,\n",
              " 0.9452693088190398,\n",
              " 0.94906599049595,\n",
              " 0.9800872513980994,\n",
              " 0.9536200175966912,\n",
              " 0.9839317794607522,\n",
              " 0.9702537977119801,\n",
              " 0.9317041744112311,\n",
              " 0.9711845434063585,\n",
              " 0.9232168583317828,\n",
              " 0.9677797267999915,\n",
              " 0.9364178127970496,\n",
              " 0.9586270780141151,\n",
              " 0.9117865447831565,\n",
              " 0.9072305797372391,\n",
              " 0.9288080716567694,\n",
              " 0.9395304557094496,\n",
              " 0.945592888250152,\n",
              " 0.8663479360216312,\n",
              " 0.90222423303666,\n",
              " 0.9384180729718122,\n",
              " 0.9153822642434364,\n",
              " 0.8640038996961943,\n",
              " 0.9731386892832472,\n",
              " 0.9675044986151414,\n",
              " 0.9763615359455476,\n",
              " 0.7754633680831431,\n",
              " 0.8579028661970863,\n",
              " 0.8178553082974258,\n",
              " 0.9451418283007481,\n",
              " 0.9755336334699207,\n",
              " 0.8927957253962784,\n",
              " -0.12038325518752369,\n",
              " 0.9478327463320066,\n",
              " 0.9149908029824452,\n",
              " 0.965846997843408,\n",
              " 0.9567435049194214,\n",
              " 0.9290982417876945,\n",
              " 0.9060402715057205,\n",
              " 0.9418842526313294,\n",
              " 0.9372279384965195,\n",
              " 0.9722819435903672,\n",
              " 0.9632625173645575,\n",
              " 0.9767388481902819,\n",
              " 0.932943446725044,\n",
              " 0.9679219660859564,\n",
              " 0.9452313733736595,\n",
              " 0.8492724942099856,\n",
              " 0.9521242959811101,\n",
              " 0.9610021436153754,\n",
              " 0.9201700537747247,\n",
              " 0.8316851791302221,\n",
              " 0.7418275789432853,\n",
              " 0.9417598439045696,\n",
              " 0.9898434390588872,\n",
              " 0.9767827249581711,\n",
              " 0.8885681046263565,\n",
              " 0.939027512368197,\n",
              " 0.9417898937084337,\n",
              " 0.9700666177666281,\n",
              " 0.914496375633173,\n",
              " 0.9569552519415891,\n",
              " 0.9506261936336418,\n",
              " 0.9738809199309473,\n",
              " 0.9562936554075491,\n",
              " 0.9521495213183243,\n",
              " 0.9233520431912321,\n",
              " 0.9762981408435532,\n",
              " 0.9362131576104327,\n",
              " 0.952607831348878,\n",
              " 0.9287582434289874,\n",
              " 0.9149879005916816,\n",
              " 0.9374701392819708,\n",
              " 0.9477399563525247,\n",
              " 0.9823751294462939,\n",
              " 0.9628174543536127,\n",
              " 0.9307783431484525,\n",
              " 0.8405934469306451,\n",
              " 0.9524927528629347,\n",
              " 0.9584993488485485,\n",
              " 0.9696458072304073,\n",
              " 0.9432752536744781,\n",
              " 0.6889784969517632,\n",
              " 0.8872254193412725,\n",
              " 0.975037829172383,\n",
              " -0.16474183748777382,\n",
              " 0.9433008990265421,\n",
              " 0.9775914736367702,\n",
              " 0.9451642883888033,\n",
              " 0.8459718769645332,\n",
              " 0.9758259120366866,\n",
              " 0.9640496752989668,\n",
              " 0.9632572060781348,\n",
              " 0.926340726855575,\n",
              " 0.8239534370082878,\n",
              " 0.8808927348644479,\n",
              " 0.9069078118126628,\n",
              " 0.870532477878796,\n",
              " 0.9203652315176376,\n",
              " 0.9497201211175037,\n",
              " 0.9449143349401226,\n",
              " 0.9694411777911821,\n",
              " 0.8664326770330526,\n",
              " 0.9827173515096721,\n",
              " 0.9584672351750041,\n",
              " 0.9376964418573707,\n",
              " 0.9721574945710459,\n",
              " 0.9305025488469474,\n",
              " 0.9325237351154199,\n",
              " 0.9198758699403128,\n",
              " 0.9379586850369461,\n",
              " 0.9627671465013857,\n",
              " 0.9746885156297657,\n",
              " 0.9388776097661393,\n",
              " 0.8022547284289652,\n",
              " 0.9846725654835888,\n",
              " 0.9572487893087314,\n",
              " 0.9774459918785455,\n",
              " 0.8957590637668914,\n",
              " 0.9371022180493387,\n",
              " 0.9628022627176109,\n",
              " 0.9901641327766026,\n",
              " 0.9227907294033851,\n",
              " 0.893435180051926,\n",
              " 0.961671748226427,\n",
              " 0.9626803243941433,\n",
              " 0.9422036608385017,\n",
              " 0.9496469403244372,\n",
              " 0.9280748703099433,\n",
              " 0.9686776645323301,\n",
              " 0.9089645972300915,\n",
              " 0.9200418295723104,\n",
              " 0.9466854541704197,\n",
              " 0.9396761172666035,\n",
              " 0.892815565409324,\n",
              " 0.9506312178510892,\n",
              " 0.9361846293702507,\n",
              " 0.9670461229645954,\n",
              " 0.9003236750410633,\n",
              " 0.9357786181886608,\n",
              " 0.9492298370776889,\n",
              " 0.9672211781816686,\n",
              " 0.47030041761941443,\n",
              " 0.8693981713910438,\n",
              " 0.8049523574997428,\n",
              " 0.9808152835202145,\n",
              " 0.9606849543645315,\n",
              " 0.8921759578899422,\n",
              " 0.9519106868096108,\n",
              " 0.8236978985135598,\n",
              " 0.9446111008218258,\n",
              " 0.9789836285697657,\n",
              " 0.9626062626007694,\n",
              " 0.8272933043147526,\n",
              " 0.9423807325268492]"
            ]
          },
          "metadata": {},
          "execution_count": 55
        }
      ]
    },
    {
      "cell_type": "code",
      "source": [
        "model.predict([[15]])"
      ],
      "metadata": {
        "colab": {
          "base_uri": "https://localhost:8080/"
        },
        "id": "FtP_zoOvJ1Fa",
        "outputId": "d693be0f-5266-4ec2-9e6e-2a4bf0dc87ac"
      },
      "execution_count": 56,
      "outputs": [
        {
          "output_type": "execute_result",
          "data": {
            "text/plain": [
              "array([167936.97243344])"
            ]
          },
          "metadata": {},
          "execution_count": 56
        }
      ]
    },
    {
      "cell_type": "code",
      "source": [
        "def salary():\n",
        "  exp=float(input('Enter the experience: '))\n",
        "  sal=model.predict([[exp]])\n",
        "  print('The expected salary would be '+str(round(sal[0],2)))\n",
        ""
      ],
      "metadata": {
        "id": "awnjHTM8KgBc"
      },
      "execution_count": 59,
      "outputs": []
    },
    {
      "cell_type": "code",
      "source": [
        "salary()"
      ],
      "metadata": {
        "colab": {
          "base_uri": "https://localhost:8080/"
        },
        "id": "ZvHHuqp_LGnU",
        "outputId": "e0ef5134-1c38-405a-e91f-42bf211a3c4c"
      },
      "execution_count": 60,
      "outputs": [
        {
          "output_type": "stream",
          "name": "stdout",
          "text": [
            "Enter the experience: 15\n",
            "The expected salary would be 167936.97\n"
          ]
        }
      ]
    },
    {
      "cell_type": "code",
      "source": [
        "joblib.dump(model,'salary.pkl')"
      ],
      "metadata": {
        "colab": {
          "base_uri": "https://localhost:8080/"
        },
        "id": "2JT5wOv8LUe8",
        "outputId": "5dc25b8f-a299-4889-c5a2-b53312e5097e"
      },
      "execution_count": 62,
      "outputs": [
        {
          "output_type": "execute_result",
          "data": {
            "text/plain": [
              "['salary.pkl']"
            ]
          },
          "metadata": {},
          "execution_count": 62
        }
      ]
    },
    {
      "cell_type": "code",
      "source": [
        "mymodel=joblib.load('salary.pkl')"
      ],
      "metadata": {
        "id": "Fy-t4ukZMrso"
      },
      "execution_count": 63,
      "outputs": []
    },
    {
      "cell_type": "code",
      "source": [
        "round(mymodel.predict([[15]])[0],2)"
      ],
      "metadata": {
        "colab": {
          "base_uri": "https://localhost:8080/"
        },
        "id": "8iCJI7EGMwLh",
        "outputId": "e0fb047c-a0c6-4cfe-a02d-a8ba6f9a9d2e"
      },
      "execution_count": 66,
      "outputs": [
        {
          "output_type": "execute_result",
          "data": {
            "text/plain": [
              "167936.97"
            ]
          },
          "metadata": {},
          "execution_count": 66
        }
      ]
    },
    {
      "cell_type": "code",
      "source": [],
      "metadata": {
        "id": "pHUMDvUvMzUi"
      },
      "execution_count": null,
      "outputs": []
    }
  ]
}